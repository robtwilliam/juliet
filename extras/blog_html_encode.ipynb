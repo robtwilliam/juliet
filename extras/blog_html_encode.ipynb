{
 "cells": [
  {
   "cell_type": "code",
   "execution_count": 395,
   "metadata": {},
   "outputs": [],
   "source": [
    "import pandas as pd\n",
    "import base64"
   ]
  },
  {
   "cell_type": "code",
   "execution_count": 396,
   "metadata": {},
   "outputs": [],
   "source": [
    "articles_df = pd.DataFrame(columns=['id','name','created_date','updated_date','category','description','content','image'])"
   ]
  },
  {
   "cell_type": "code",
   "execution_count": 397,
   "metadata": {},
   "outputs": [],
   "source": [
    "content = {\n",
    "    'id':int(0),\n",
    "    'name':'',\n",
    "    'created_date':'',\n",
    "    'updated_date':'',\n",
    "    'category':'',\n",
    "    'description':'',\n",
    "    'content':'',\n",
    "    'image':''\n",
    "}"
   ]
  },
  {
   "cell_type": "code",
   "execution_count": 398,
   "metadata": {},
   "outputs": [],
   "source": [
    "def append_to_df(content, df):\n",
    "    content['id'] = str(len(df))\n",
    "    new_row = pd.DataFrame.from_dict([content])\n",
    "    df = pd.concat([df,new_row])\n",
    "    return df"
   ]
  },
  {
   "cell_type": "code",
   "execution_count": 399,
   "metadata": {},
   "outputs": [],
   "source": [
    "\n",
    "content['name'] = r'''What to do if you can't pay your vet bill'''\n",
    "content['created_date'] = r'''January 31, 2024'''\n",
    "content['updated_date'] = r'''January 31, 2024'''\n",
    "content['category'] = r'''Care'''\n",
    "content['description'] = r'''Having to pay for a surgery when you don't have the money is heartwrenching.'''\n",
    "content['content'] = r'''<p>Our cat Juliet broke her paw & had to get surgery, the cost was in the $6-7K range. At the time, I didn't have the money. I cried hysterically in the surgeon's office because I didn't know how to move forward. I didn't think she'd be able to get the surgery. FEAR NOT! Take a deep breath. There's a company called Care Credit that will loan you the money. And the cool thing? They give you (1) year to pay it back with 0% interest. Saved the freakin' day.</p>'''\n",
    "content['image'] = r'''juliet_window_sil'''\n",
    "articles_df = append_to_df(content,articles_df)"
   ]
  },
  {
   "cell_type": "code",
   "execution_count": 400,
   "metadata": {},
   "outputs": [],
   "source": [
    "\n",
    "content['name'] = r'''Automated litter boxes (like LitterRobot)'''\n",
    "content['created_date'] = r'''January 31, 2024'''\n",
    "content['updated_date'] = r'''January 31, 2024'''\n",
    "content['category'] = r'''Care'''\n",
    "content['description'] = r'''Should you use them?'''\n",
    "content['content'] = r'''<p>Tired of the never-ending battle with your cat’s litter box? I was too, so I dove into the world of automated litter boxes, eyeing the high-end LitterRobot with its sleek promises. After scouring every review and analyzing the pros and cons, I stumbled upon some unsettling warnings. Several veterinarians reported that they frequently see cats with serious injuries caused by these automated litter boxes.</p><p>Could rival brands be behind these alarming reviews? Maybe. But, after weighing the risks, I decided to stick with a more traditional approach. It’s not worth risking my cat’s safety for convenience!</p>'''\n",
    "content['image'] = r'''olivia_juliet_couch'''\n",
    "articles_df = append_to_df(content,articles_df)"
   ]
  },
  {
   "cell_type": "code",
   "execution_count": 401,
   "metadata": {},
   "outputs": [],
   "source": [
    "content['name'] = r'''Does your cat have kidney disease?'''\n",
    "content['created_date'] = r'''January 31, 2024'''\n",
    "content['updated_date'] = r'''January 31, 2024'''\n",
    "content['category'] = r'''Health'''\n",
    "content['description'] = r'''Olivia's Miraculous Kidney Recovery: How Rx Renal Beadlets Saved the Day'''\n",
    "content['content'] = r'''<p>If you’ve ever had a cat diagnosed with kidney disease, you know it can feel like your heart is breaking. Our sweet Olivia was no exception. After a routine checkup, we were told that Olivia had early-stage kidney disease. We were devastated. But little did we know, this was just the beginning of a health turnaround we never expected.</p><p>When we first started giving Olivia the Rx Renal Beadlets, we were cautiously optimistic. After all, kidney disease is notoriously tricky to manage. But after just a few months of consistent use, something amazing happened. Olivia’s kidney values, which had been concerning, completely reversed. The kidney disease was gone.</p><p>We owe this incredible turnaround to Dr. Robert Silver and his dedication to alternative, science-backed solutions for pets. He’s one of the foremost experts in integrating holistic therapies with conventional medicine, and his work has had a major impact on our lives—and Olivia’s health.</p><p>Thank you, Dr. Silver, for giving Olivia—and so many other pets—a chance at a healthier, happier life.</p>'''\n",
    "content['image'] = r'''juliet_olivia_cat_tower'''\n",
    "articles_df = append_to_df(content,articles_df)"
   ]
  },
  {
   "cell_type": "code",
   "execution_count": 402,
   "metadata": {},
   "outputs": [],
   "source": [
    "content['name'] = r'''Does your cat spray pee outside the litter box?'''\n",
    "content['created_date'] = r'''January 31, 2024'''\n",
    "content['updated_date'] = r'''January 31, 2024'''\n",
    "content['category'] = r'''Home'''\n",
    "content['description'] = r'''Juliet’s High-Flying Pee Problem: How We Finally Tamed the Spray'''\n",
    "content['content'] = r'''<p>If you’ve ever had a cat with… let’s say, “unconventional” bathroom habits, you know the struggle. Take our cat, Juliet, for example. Not only is she a majestic ball of fluff and attitude, but she also has the curious habit of peeing so high, she’s practically trying to mark the ceiling. Yes, you read that right—Juliet doesn’t just pee in the litter box, she sprays over the sides and onto the walls. As you can imagine, this led to some questionable home decor choices: the carpet, the walls, and even the occasional light fixture were all fair game.</p><p>Our first attempt at solving this involved a tarp. Oh, the tarp. We thought, “Surely, this will contain the spray!” Spoiler alert: it didn’t. The tarp was more of a suggestion than a solution. Juliet was determined to defy the laws of physics and her tiny box, leading to several rounds of laundry, frustrated sighs, and the very real fear of stepping in cat pee while we slept.</p><p>What’s even better? The box has a tarp liner that slides right inside. When the inevitable happens, I can pop it out, toss it in the wash, and order a replacement liner from Amazon with just a few clicks. No more soggy carpet, no more mysterious damp spots on the walls—just a clean, dry home and a very satisfied cat (who still has her high-flying pee technique, but at least it’s now contained).</p><p>You can find the magical life-saving litter box <a href=\"https://www.amazon.com/Modkat-Litter-Scoop-Reusable-Liner/dp/B009UWMLC4\" target=\"_blank\" rel=\"noopener noreferrer\">here</a>.</p>'''\n",
    "content['image'] = r'''juliet_upside_down'''\n",
    "articles_df = append_to_df(content,articles_df)"
   ]
  },
  {
   "cell_type": "code",
   "execution_count": 403,
   "metadata": {},
   "outputs": [],
   "source": [
    "content['name'] = r'''Don't put your cats water bowl near their food'''\n",
    "content['created_date'] = r'''January 31, 2024'''\n",
    "content['updated_date'] = r'''January 31, 2024'''\n",
    "content['category'] = r'''Care'''\n",
    "content['description'] = r'''WAY less likely they'll drink it.'''\n",
    "content['content'] = r'''<p>If you put a cat's water bowl next to their food, studies show they'll drink way less water. Cat behaviorists suggest this quirky preference stems from their wild instincts. In the wild, cats hunt far from their water sources to avoid contaminating it. Plus, the scent of food while sipping water or having food particles floating in their water bowl is a total turn-off. To keep your feline friend happy and healthy, try keeping their food and water dishes apart. Your cat will thank you with purrs of appreciation!</p>'''\n",
    "content['image'] = r'''juliet_coffee'''\n",
    "articles_df = append_to_df(content,articles_df)"
   ]
  },
  {
   "cell_type": "code",
   "execution_count": 404,
   "metadata": {},
   "outputs": [],
   "source": [
    "content['name'] = r'''How many litter boxes should I have?'''\n",
    "content['created_date'] = r'''January 31, 2024'''\n",
    "content['updated_date'] = r'''January 31, 2024'''\n",
    "content['category'] = r'''Home'''\n",
    "content['description'] = r'''The One Extra Litter Box Rule: A Simple Tip for Happier, Healthier Cats'''\n",
    "content['content'] = r'''<p>A good rule of thumb for litter boxes is to have one for each cat, plus one extra. So, if you have two cats, you should provide three litter boxes. This setup ensures each cat has their own space and a backup if another cat is using one. Sharing a litter box can be stressful for cats and might lead to health issues like urinary problems due to the stress of holding their urine. Providing ample litter boxes helps keep your cats happy and healthy!</p>'''\n",
    "content['image'] = r'''juliet_olivia_couch_2'''\n",
    "articles_df = append_to_df(content,articles_df)"
   ]
  },
  {
   "cell_type": "code",
   "execution_count": 405,
   "metadata": {},
   "outputs": [],
   "source": [
    "content['name'] = r'''Using a flea treatment? BEWARE'''\n",
    "content['created_date'] = r'''January 31, 2024'''\n",
    "content['updated_date'] = r'''January 31, 2024'''\n",
    "content['category'] = r'''Care'''\n",
    "content['description'] = r'''One of them caused our cat to have seizures.'''\n",
    "content['content'] = r'''<p>When our cats were young, I followed the vet's advice and used Comfortis, a topical flea treatment. Almost immediately, one of my cats started having tremors and focal seizures. A trip to the vet revealed that Comfortis can trigger seizures in up to 40% of cats. Shocked, I did more research and discovered that Comfortis is essentially like applying Roundup bug killer to your pet. Would you use Roundup on yourself or your kids?</p><p>I stopped using flea treatments altogether. My cat still suffers from focal seizures eight years later, and Comfortis has since been discontinued. Since my cats are indoor-only and don't face flea risks, I’ve received approval from top holistic vets to avoid these treatments. If your cats go outdoors or live with dogs, consider exploring holistic alternatives instead of topical treatments.</p>'''\n",
    "content['image'] = r'''juliet_ball_bop'''\n",
    "articles_df = append_to_df(content,articles_df)"
   ]
  },
  {
   "cell_type": "code",
   "execution_count": 406,
   "metadata": {},
   "outputs": [],
   "source": [
    "content['name'] = r'''NEVER use oil diffusers in a house with pets'''\n",
    "content['created_date'] = r'''January 31, 2024'''\n",
    "content['updated_date'] = r'''January 31, 2024'''\n",
    "content['category'] = r'''Health'''\n",
    "content['description'] = r'''They are 100% toxic to pets.'''\n",
    "content['content'] = r'''<p>When I lived in San Francisco, the vet my cats went to graduated from one of the top veterinary programs in the US (Berkley). She would come to my apartment for house calls so my cats could get their shots. One day when she was there, she noticed my essential oil diffuser running. As soon as she saw it she said \"UNPLUG THAT. TURN IT OFF. And wipe your floors since the oils are being sprayed into the air & landing on your floor!”</p><p>I said — \"oh no, really?\" I did a ton of research on the internet & made sure to only buy the essential oils that claim to be \"safe for pets.\" She said ALL essential oils are bad for pets & that anything on the internet saying otherwise is bull#$%&. Using these diffusers with essential oils around pets can cause neurological & organ damage, resulting in premature death. If you're running one of these now, don't panic. Unplug it ASAP. </p>'''\n",
    "content['image'] = r'''juliet_olivia_window_sil_high'''\n",
    "articles_df = append_to_df(content,articles_df)"
   ]
  },
  {
   "cell_type": "code",
   "execution_count": 407,
   "metadata": {},
   "outputs": [
    {
     "data": {
      "text/plain": [
       "0    <p>Our cat Juliet broke her paw & had to get s...\n",
       "0    <p>Tired of the never-ending battle with your ...\n",
       "0    <p>If you’ve ever had a cat diagnosed with kid...\n",
       "0    <p>If you’ve ever had a cat with… let’s say, “...\n",
       "0    <p>If you put a cat's water bowl next to their...\n",
       "0    <p>A good rule of thumb for litter boxes is to...\n",
       "0    <p>When our cats were young, I followed the ve...\n",
       "0    <p>When I lived in San Francisco, the vet my c...\n",
       "Name: content, dtype: object"
      ]
     },
     "execution_count": 407,
     "metadata": {},
     "output_type": "execute_result"
    }
   ],
   "source": [
    "articles_df['content'][0]"
   ]
  },
  {
   "cell_type": "code",
   "execution_count": 408,
   "metadata": {},
   "outputs": [],
   "source": [
    "def encode_string_to_base64(input_string):\n",
    "  \"\"\"Encodes a string to Base64.\n",
    "\n",
    "  Args:\n",
    "    input_string: The string to encode.\n",
    "\n",
    "  Returns:\n",
    "    The Base64-encoded string.\n",
    "  \"\"\"\n",
    "  string_bytes = input_string.encode('utf-8')\n",
    "  base64_bytes = base64.b64encode(string_bytes)\n",
    "  print(string_bytes)\n",
    "  base64_string = base64_bytes.decode('utf-8')\n",
    "  print(base64_string)\n",
    "  return base64_string"
   ]
  },
  {
   "cell_type": "code",
   "execution_count": 409,
   "metadata": {},
   "outputs": [],
   "source": [
    "def base_encode(row):\n",
    "    row['name'] = encode_string_to_base64(row['name'])\n",
    "    row['description'] = encode_string_to_base64(row['description'])\n",
    "    row['content'] = encode_string_to_base64(row['content'])\n",
    "    return row"
   ]
  },
  {
   "cell_type": "code",
   "execution_count": 410,
   "metadata": {},
   "outputs": [],
   "source": [
    "# articles_df_final = articles_df.apply(base_encode,axis=1)"
   ]
  },
  {
   "cell_type": "code",
   "execution_count": 411,
   "metadata": {},
   "outputs": [
    {
     "data": {
      "text/html": [
       "<div>\n",
       "<style scoped>\n",
       "    .dataframe tbody tr th:only-of-type {\n",
       "        vertical-align: middle;\n",
       "    }\n",
       "\n",
       "    .dataframe tbody tr th {\n",
       "        vertical-align: top;\n",
       "    }\n",
       "\n",
       "    .dataframe thead th {\n",
       "        text-align: right;\n",
       "    }\n",
       "</style>\n",
       "<table border=\"1\" class=\"dataframe\">\n",
       "  <thead>\n",
       "    <tr style=\"text-align: right;\">\n",
       "      <th></th>\n",
       "      <th>id</th>\n",
       "      <th>name</th>\n",
       "      <th>created_date</th>\n",
       "      <th>updated_date</th>\n",
       "      <th>category</th>\n",
       "      <th>description</th>\n",
       "      <th>content</th>\n",
       "      <th>image</th>\n",
       "    </tr>\n",
       "  </thead>\n",
       "  <tbody>\n",
       "    <tr>\n",
       "      <th>0</th>\n",
       "      <td>0</td>\n",
       "      <td>What to do if you can't pay your vet bill</td>\n",
       "      <td>January 31, 2024</td>\n",
       "      <td>January 31, 2024</td>\n",
       "      <td>Care</td>\n",
       "      <td>Having to pay for a surgery when you don't hav...</td>\n",
       "      <td>&lt;p&gt;Our cat Juliet broke her paw &amp; had to get s...</td>\n",
       "      <td>juliet_window_sil</td>\n",
       "    </tr>\n",
       "    <tr>\n",
       "      <th>0</th>\n",
       "      <td>1</td>\n",
       "      <td>Automated litter boxes (like LitterRobot)</td>\n",
       "      <td>January 31, 2024</td>\n",
       "      <td>January 31, 2024</td>\n",
       "      <td>Care</td>\n",
       "      <td>Should you use them?</td>\n",
       "      <td>&lt;p&gt;Tired of the never-ending battle with your ...</td>\n",
       "      <td>olivia_juliet_couch</td>\n",
       "    </tr>\n",
       "    <tr>\n",
       "      <th>0</th>\n",
       "      <td>2</td>\n",
       "      <td>Does your cat have kidney disease?</td>\n",
       "      <td>January 31, 2024</td>\n",
       "      <td>January 31, 2024</td>\n",
       "      <td>Health</td>\n",
       "      <td>Olivia's Miraculous Kidney Recovery: How Rx Re...</td>\n",
       "      <td>&lt;p&gt;If you’ve ever had a cat diagnosed with kid...</td>\n",
       "      <td>juliet_olivia_cat_tower</td>\n",
       "    </tr>\n",
       "    <tr>\n",
       "      <th>0</th>\n",
       "      <td>3</td>\n",
       "      <td>Does your cat spray pee outside the litter box?</td>\n",
       "      <td>January 31, 2024</td>\n",
       "      <td>January 31, 2024</td>\n",
       "      <td>Home</td>\n",
       "      <td>Juliet’s High-Flying Pee Problem: How We Final...</td>\n",
       "      <td>&lt;p&gt;If you’ve ever had a cat with… let’s say, “...</td>\n",
       "      <td>juliet_upside_down</td>\n",
       "    </tr>\n",
       "    <tr>\n",
       "      <th>0</th>\n",
       "      <td>4</td>\n",
       "      <td>Don't put your cats water bowl near their food</td>\n",
       "      <td>January 31, 2024</td>\n",
       "      <td>January 31, 2024</td>\n",
       "      <td>Care</td>\n",
       "      <td>WAY less likely they'll drink it.</td>\n",
       "      <td>&lt;p&gt;If you put a cat's water bowl next to their...</td>\n",
       "      <td>juliet_coffee</td>\n",
       "    </tr>\n",
       "    <tr>\n",
       "      <th>0</th>\n",
       "      <td>5</td>\n",
       "      <td>How many litter boxes should I have?</td>\n",
       "      <td>January 31, 2024</td>\n",
       "      <td>January 31, 2024</td>\n",
       "      <td>Home</td>\n",
       "      <td>The One Extra Litter Box Rule: A Simple Tip fo...</td>\n",
       "      <td>&lt;p&gt;A good rule of thumb for litter boxes is to...</td>\n",
       "      <td>juliet_olivia_couch_2</td>\n",
       "    </tr>\n",
       "    <tr>\n",
       "      <th>0</th>\n",
       "      <td>6</td>\n",
       "      <td>Using a flea treatment? BEWARE</td>\n",
       "      <td>January 31, 2024</td>\n",
       "      <td>January 31, 2024</td>\n",
       "      <td>Care</td>\n",
       "      <td>One of them caused our cat to have seizures.</td>\n",
       "      <td>&lt;p&gt;When our cats were young, I followed the ve...</td>\n",
       "      <td>juliet_ball_bop</td>\n",
       "    </tr>\n",
       "    <tr>\n",
       "      <th>0</th>\n",
       "      <td>7</td>\n",
       "      <td>NEVER use oil diffusers in a house with pets</td>\n",
       "      <td>January 31, 2024</td>\n",
       "      <td>January 31, 2024</td>\n",
       "      <td>Health</td>\n",
       "      <td>They are 100% toxic to pets.</td>\n",
       "      <td>&lt;p&gt;When I lived in San Francisco, the vet my c...</td>\n",
       "      <td>juliet_olivia_window_sil_high</td>\n",
       "    </tr>\n",
       "  </tbody>\n",
       "</table>\n",
       "</div>"
      ],
      "text/plain": [
       "  id                                             name      created_date  \\\n",
       "0  0        What to do if you can't pay your vet bill  January 31, 2024   \n",
       "0  1        Automated litter boxes (like LitterRobot)  January 31, 2024   \n",
       "0  2               Does your cat have kidney disease?  January 31, 2024   \n",
       "0  3  Does your cat spray pee outside the litter box?  January 31, 2024   \n",
       "0  4   Don't put your cats water bowl near their food  January 31, 2024   \n",
       "0  5             How many litter boxes should I have?  January 31, 2024   \n",
       "0  6                   Using a flea treatment? BEWARE  January 31, 2024   \n",
       "0  7     NEVER use oil diffusers in a house with pets  January 31, 2024   \n",
       "\n",
       "       updated_date category  \\\n",
       "0  January 31, 2024     Care   \n",
       "0  January 31, 2024     Care   \n",
       "0  January 31, 2024   Health   \n",
       "0  January 31, 2024     Home   \n",
       "0  January 31, 2024     Care   \n",
       "0  January 31, 2024     Home   \n",
       "0  January 31, 2024     Care   \n",
       "0  January 31, 2024   Health   \n",
       "\n",
       "                                         description  \\\n",
       "0  Having to pay for a surgery when you don't hav...   \n",
       "0                               Should you use them?   \n",
       "0  Olivia's Miraculous Kidney Recovery: How Rx Re...   \n",
       "0  Juliet’s High-Flying Pee Problem: How We Final...   \n",
       "0                  WAY less likely they'll drink it.   \n",
       "0  The One Extra Litter Box Rule: A Simple Tip fo...   \n",
       "0       One of them caused our cat to have seizures.   \n",
       "0                       They are 100% toxic to pets.   \n",
       "\n",
       "                                             content  \\\n",
       "0  <p>Our cat Juliet broke her paw & had to get s...   \n",
       "0  <p>Tired of the never-ending battle with your ...   \n",
       "0  <p>If you’ve ever had a cat diagnosed with kid...   \n",
       "0  <p>If you’ve ever had a cat with… let’s say, “...   \n",
       "0  <p>If you put a cat's water bowl next to their...   \n",
       "0  <p>A good rule of thumb for litter boxes is to...   \n",
       "0  <p>When our cats were young, I followed the ve...   \n",
       "0  <p>When I lived in San Francisco, the vet my c...   \n",
       "\n",
       "                           image  \n",
       "0              juliet_window_sil  \n",
       "0            olivia_juliet_couch  \n",
       "0        juliet_olivia_cat_tower  \n",
       "0             juliet_upside_down  \n",
       "0                  juliet_coffee  \n",
       "0          juliet_olivia_couch_2  \n",
       "0                juliet_ball_bop  \n",
       "0  juliet_olivia_window_sil_high  "
      ]
     },
     "execution_count": 411,
     "metadata": {},
     "output_type": "execute_result"
    }
   ],
   "source": [
    "articles_df"
   ]
  },
  {
   "cell_type": "code",
   "execution_count": 412,
   "metadata": {},
   "outputs": [],
   "source": [
    "articles_df.to_json('../src/assets/article_data.json',orient='records')"
   ]
  }
 ],
 "metadata": {
  "kernelspec": {
   "display_name": "Python 3",
   "language": "python",
   "name": "python3"
  },
  "language_info": {
   "codemirror_mode": {
    "name": "ipython",
    "version": 3
   },
   "file_extension": ".py",
   "mimetype": "text/x-python",
   "name": "python",
   "nbconvert_exporter": "python",
   "pygments_lexer": "ipython3",
   "version": "3.9.8"
  }
 },
 "nbformat": 4,
 "nbformat_minor": 2
}
